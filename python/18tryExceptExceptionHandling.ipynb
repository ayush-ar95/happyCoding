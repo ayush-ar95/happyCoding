{
 "cells": [
  {
   "attachments": {},
   "cell_type": "markdown",
   "metadata": {},
   "source": [
    "In this program we will see Try Except Exception Handling."
   ]
  },
  {
   "cell_type": "code",
   "execution_count": 4,
   "metadata": {},
   "outputs": [
    {
     "name": "stdout",
     "output_type": "stream",
     "text": [
      "Enter num 1\n",
      "Enter num 2\n",
      "invalid literal for int() with base 10: 'w'\n",
      "We have handled the exception and executing further\n"
     ]
    }
   ],
   "source": [
    "# In Try Except Exception handling we handle the exception created by some code.\n",
    "\n",
    "print(\"Enter num 1\")\n",
    "num1 = input()\n",
    "print(\"Enter num 2\")\n",
    "num2 = input()\n",
    "try:            # this will try to catch the exception if exception occurs.\n",
    "    print(\"The sum of these two number is\",\n",
    "          int(num1)+int(num2))\n",
    "except Exception as e:      # this will store the exception in a variable.\n",
    "    print(e)                # printing the exception to the user.\n",
    "\n",
    "print(\"We have handled the exception and executing further\")"
   ]
  },
  {
   "cell_type": "code",
   "execution_count": null,
   "metadata": {},
   "outputs": [],
   "source": []
  }
 ],
 "metadata": {
  "kernelspec": {
   "display_name": "Python 3",
   "language": "python",
   "name": "python3"
  },
  "language_info": {
   "codemirror_mode": {
    "name": "ipython",
    "version": 3
   },
   "file_extension": ".py",
   "mimetype": "text/x-python",
   "name": "python",
   "nbconvert_exporter": "python",
   "pygments_lexer": "ipython3",
   "version": "3.11.4"
  },
  "orig_nbformat": 4
 },
 "nbformat": 4,
 "nbformat_minor": 2
}
