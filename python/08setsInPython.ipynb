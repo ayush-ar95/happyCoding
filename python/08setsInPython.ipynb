{
 "cells": [
  {
   "attachments": {},
   "cell_type": "markdown",
   "metadata": {},
   "source": [
    "Sets in Python"
   ]
  },
  {
   "cell_type": "code",
   "execution_count": null,
   "metadata": {},
   "outputs": [],
   "source": [
    "# A Set in Python programming is an unordered collection data type that is iterable, mutable and has no duplicate elements.\n",
    "\"\"\"\n",
    " The major advantage of using a set, as opposed to a list, is that it has a highly optimized method for checking whether a specific element is contained in the set. \n",
    " This is based on a data structure known as a hash table. Since sets are unordered, we cannot access items using indexes as we do in lists.\n",
    "\n",
    " Set are represented by { } (values enclosed in curly braces)\n",
    "\"\"\""
   ]
  },
  {
   "attachments": {},
   "cell_type": "markdown",
   "metadata": {},
   "source": [
    "Creating and printing set"
   ]
  },
  {
   "cell_type": "code",
   "execution_count": null,
   "metadata": {},
   "outputs": [],
   "source": [
    "s = set()  # creating an empty set.\n",
    "print(type(s))  # printing the type of data structure created."
   ]
  },
  {
   "attachments": {},
   "cell_type": "markdown",
   "metadata": {},
   "source": [
    "Creating set using list"
   ]
  },
  {
   "cell_type": "code",
   "execution_count": null,
   "metadata": {},
   "outputs": [],
   "source": [
    "set_from_list = set([1, 2, 3, 4])    # creating set using list.\n",
    "print(set_from_list)        # printing the set.\n",
    "print(type(set_from_list))  # printing the data type."
   ]
  },
  {
   "cell_type": "code",
   "execution_count": null,
   "metadata": {},
   "outputs": [],
   "source": [
    "# we can do this in another way..--> first create list and then pass to set.\n",
    "l = [1, 2, 3, 4]  # creating a list.\n",
    "sFromList = set(l)    # passing the list to set.\n",
    "print(sFromList)\n",
    "print(type(sFromList))"
   ]
  },
  {
   "attachments": {},
   "cell_type": "markdown",
   "metadata": {},
   "source": [
    "Adding elements to the set"
   ]
  },
  {
   "cell_type": "code",
   "execution_count": null,
   "metadata": {},
   "outputs": [],
   "source": [
    "# we use add function to add element to the set.\n",
    "s.add(1)\n",
    "print(s)\n",
    "# this will not add repetative element, it only retains unique value.\n",
    "s.add(1)\n",
    "print(s)\n",
    "s.add(2)\n",
    "print(s)"
   ]
  },
  {
   "cell_type": "code",
   "execution_count": null,
   "metadata": {},
   "outputs": [],
   "source": [
    "# this will union set with new elements. here there is same element so no new set will be printed.\n",
    "s.union({1, 2})\n",
    "print(s)\n",
    "s1 = s.union({1, 2, 3, 4})\n",
    "print(s1)"
   ]
  },
  {
   "cell_type": "code",
   "execution_count": null,
   "metadata": {},
   "outputs": [],
   "source": [
    "# this will do the intersection of the two set.\n",
    "s1 = s.intersection({1, 2, 3, 4})\n",
    "print(s1)"
   ]
  },
  {
   "cell_type": "code",
   "execution_count": null,
   "metadata": {},
   "outputs": [],
   "source": [
    "print(len(s))   # this will print the length of the set\n",
    "print(type(s))  # this will print the type\n",
    "print(max(s))   # will print the maximum element of the set\n",
    "print(min(s))  # will print the minimun element of the set"
   ]
  },
  {
   "cell_type": "code",
   "execution_count": null,
   "metadata": {},
   "outputs": [],
   "source": [
    "# we can also check difference of set, symmteric difference, disjoint set, venn diagram, we can check more funtions online.\n",
    "print(s.isdisjoint(s1))  # we are checking the disjoint set."
   ]
  },
  {
   "attachments": {},
   "cell_type": "markdown",
   "metadata": {},
   "source": [
    "deleting an element in a set"
   ]
  },
  {
   "cell_type": "code",
   "execution_count": null,
   "metadata": {},
   "outputs": [],
   "source": [
    "print(s)\n",
    "s.remove(2)  # this will delete the element from the set.\n",
    "print(s)"
   ]
  },
  {
   "cell_type": "code",
   "execution_count": null,
   "metadata": {},
   "outputs": [],
   "source": []
  }
 ],
 "metadata": {
  "kernelspec": {
   "display_name": "Python 3",
   "language": "python",
   "name": "python3"
  },
  "language_info": {
   "codemirror_mode": {
    "name": "ipython",
    "version": 3
   },
   "file_extension": ".py",
   "mimetype": "text/x-python",
   "name": "python",
   "nbconvert_exporter": "python",
   "pygments_lexer": "ipython3",
   "version": "3.11.4"
  },
  "orig_nbformat": 4
 },
 "nbformat": 4,
 "nbformat_minor": 2
}
