{
 "cells": [
  {
   "attachments": {},
   "cell_type": "markdown",
   "metadata": {},
   "source": [
    "Operators in Python"
   ]
  },
  {
   "cell_type": "code",
   "execution_count": null,
   "metadata": {},
   "outputs": [],
   "source": [
    "\"\"\"\n",
    "Types of Operator in python:\n",
    "    1. Arithmetic operator.\n",
    "    2. Assignment operator.\n",
    "    3. comparision operator.\n",
    "    4. Logical operator.\n",
    "    5. Identity operator.\n",
    "    6. Membership operator.\n",
    "    7. Bitwise operator.\n",
    "\"\"\""
   ]
  },
  {
   "attachments": {},
   "cell_type": "markdown",
   "metadata": {},
   "source": [
    "1. Arithmetic Operators"
   ]
  },
  {
   "cell_type": "code",
   "execution_count": null,
   "metadata": {},
   "outputs": [],
   "source": [
    "print(\"5+6 is: \", 5+6)\n",
    "print(\"5-6 is: \", 5-6)\n",
    "print(\"5*6 is: \", 5*6)\n",
    "print(\"5**6 is: \", 5**6)    # this is exponential operator.\n",
    "print(\"15/6 is: \", 15/6)  # this gives the exact value.\n",
    "# this gives the integer value called as floor division operator.\n",
    "print(\"15//6 is: \", 15//6)\n",
    "# this gives the remainder called as modulus operator.\n",
    "print(\"15%6 is: \", 15 % 6)"
   ]
  },
  {
   "attachments": {},
   "cell_type": "markdown",
   "metadata": {},
   "source": [
    "2. Assingment Operators"
   ]
  },
  {
   "cell_type": "code",
   "execution_count": null,
   "metadata": {},
   "outputs": [],
   "source": [
    "x = 5  # this is assingment operator.\n",
    "print(x)\n",
    "x += 7\n",
    "print(x)\n",
    "x -= 7\n",
    "print(x)\n",
    "x /= 7\n",
    "print(x)\n",
    "x *= 7\n",
    "print(x)\n",
    "x %= 2\n",
    "print(x)"
   ]
  },
  {
   "attachments": {},
   "cell_type": "markdown",
   "metadata": {},
   "source": [
    "3. Comparision Operators"
   ]
  },
  {
   "cell_type": "code",
   "execution_count": null,
   "metadata": {},
   "outputs": [],
   "source": [
    "i = 8\n",
    "print(i == 5)  # it will compare and will return a boolean value."
   ]
  },
  {
   "attachments": {},
   "cell_type": "markdown",
   "metadata": {},
   "source": [
    "4. Logical Operator"
   ]
  },
  {
   "cell_type": "code",
   "execution_count": null,
   "metadata": {},
   "outputs": [],
   "source": [
    "a = True\n",
    "b = False\n",
    "print(a and a)\n",
    "print(a and b)\n",
    "print(a or a)\n",
    "print(a or b)\n",
    "print(not a)"
   ]
  },
  {
   "attachments": {},
   "cell_type": "markdown",
   "metadata": {},
   "source": [
    "5. Identity Operator"
   ]
  },
  {
   "cell_type": "code",
   "execution_count": null,
   "metadata": {},
   "outputs": [],
   "source": [
    "# is and is not is identity operator.\n",
    "a = True\n",
    "b = False\n",
    "print(a is b)\n",
    "print(a is not b)"
   ]
  },
  {
   "attachments": {},
   "cell_type": "markdown",
   "metadata": {},
   "source": [
    "6. Membership Operator"
   ]
  },
  {
   "cell_type": "code",
   "execution_count": null,
   "metadata": {},
   "outputs": [],
   "source": [
    "# in and not in is membership operator.\n",
    "list = [3, 3, 2, 39, 33, 35, 32]\n",
    "print(32 in list)\n",
    "print(99 in list)\n",
    "print(99 not in list)"
   ]
  },
  {
   "attachments": {},
   "cell_type": "markdown",
   "metadata": {},
   "source": [
    "7. Bit Wise Operator"
   ]
  },
  {
   "cell_type": "code",
   "execution_count": null,
   "metadata": {},
   "outputs": [],
   "source": [
    "print(0 & 1)    # bitwise and\n",
    "print(0 | 1)    # bitwise or"
   ]
  }
 ],
 "metadata": {
  "kernelspec": {
   "display_name": "Python 3",
   "language": "python",
   "name": "python3"
  },
  "language_info": {
   "codemirror_mode": {
    "name": "ipython",
    "version": 3
   },
   "file_extension": ".py",
   "mimetype": "text/x-python",
   "name": "python",
   "nbconvert_exporter": "python",
   "pygments_lexer": "ipython3",
   "version": "3.11.4"
  },
  "orig_nbformat": 4
 },
 "nbformat": 4,
 "nbformat_minor": 2
}
