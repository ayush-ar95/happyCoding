{
 "cells": [
  {
   "attachments": {},
   "cell_type": "markdown",
   "metadata": {},
   "source": [
    "Operators in Python"
   ]
  },
  {
   "cell_type": "code",
   "execution_count": null,
   "metadata": {},
   "outputs": [],
   "source": [
    "\"\"\"\n",
    "Types of Operator in python:\n",
    "    1. Arithmetic operator.\n",
    "    2. Assignment operator.\n",
    "    3. comparision operator.\n",
    "    4. Logical operator.\n",
    "    5. Identity operator.\n",
    "    6. Membership operator.\n",
    "    7. Bitwise operator.\n",
    "\"\"\""
   ]
  },
  {
   "attachments": {},
   "cell_type": "markdown",
   "metadata": {},
   "source": [
    "1. Arithmetic Operators"
   ]
  },
  {
   "cell_type": "code",
   "execution_count": null,
   "metadata": {},
   "outputs": [],
   "source": [
    "print(\"5+6 is: \", 5+6)\n",
    "print(\"5-6 is: \", 5-6)\n",
    "print(\"5*6 is: \", 5*6)\n",
    "print(\"5**6 is: \", 5**6)    # this is exponential operator.\n",
    "print(\"15/6 is: \", 15/6)  # this gives the exact value.\n",
    "# this gives the integer value called as floor division operator.\n",
    "print(\"15//6 is: \", 15//6)\n",
    "# this gives the remainder called as modulus operator.\n",
    "print(\"15%6 is: \", 15 % 6)"
   ]
  },
  {
   "attachments": {},
   "cell_type": "markdown",
   "metadata": {},
   "source": [
    "2. Assingment Operators"
   ]
  },
  {
   "cell_type": "code",
   "execution_count": 10,
   "metadata": {},
   "outputs": [
    {
     "name": "stdout",
     "output_type": "stream",
     "text": [
      "5\n",
      "12\n",
      "5\n",
      "0.7142857142857143\n",
      "5.0\n",
      "1.0\n"
     ]
    }
   ],
   "source": [
    "x = 5  # this is assingment operator.\n",
    "print(x)\n",
    "x += 7\n",
    "print(x)\n",
    "x -= 7\n",
    "print(x)\n",
    "x /= 7\n",
    "print(x)\n",
    "x *= 7\n",
    "print(x)\n",
    "x %= 2\n",
    "print(x)"
   ]
  },
  {
   "attachments": {},
   "cell_type": "markdown",
   "metadata": {},
   "source": [
    "3. Comparision Operators"
   ]
  },
  {
   "cell_type": "code",
   "execution_count": null,
   "metadata": {},
   "outputs": [],
   "source": []
  }
 ],
 "metadata": {
  "kernelspec": {
   "display_name": "Python 3",
   "language": "python",
   "name": "python3"
  },
  "language_info": {
   "codemirror_mode": {
    "name": "ipython",
    "version": 3
   },
   "file_extension": ".py",
   "mimetype": "text/x-python",
   "name": "python",
   "nbconvert_exporter": "python",
   "pygments_lexer": "ipython3",
   "version": "3.11.4"
  },
  "orig_nbformat": 4
 },
 "nbformat": 4,
 "nbformat_minor": 2
}
