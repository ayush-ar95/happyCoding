{
 "cells": [
  {
   "attachments": {},
   "cell_type": "markdown",
   "metadata": {},
   "source": [
    "Create a dictionary and take input from the user and return the meaning of the word from the dictionary."
   ]
  },
  {
   "cell_type": "code",
   "execution_count": 1,
   "metadata": {},
   "outputs": [
    {
     "name": "stdout",
     "output_type": "stream",
     "text": [
      "Enter the word you want to search\n",
      "It is a place where you play\n"
     ]
    }
   ],
   "source": [
    "dic = {\"home\": \"It is a place where you live\",\n",
    "       \"school\": \"It is a place where you studey\",\n",
    "       \"office\": \"It is a place where you work\",\n",
    "       \"library\": \"It is a place where you study\",\n",
    "       'play ground': \"It is a place where you play\"}\n",
    "print(\"Enter the word you want to search\")\n",
    "inp = input()\n",
    "print(dic[inp])"
   ]
  },
  {
   "cell_type": "code",
   "execution_count": null,
   "metadata": {},
   "outputs": [],
   "source": []
  }
 ],
 "metadata": {
  "kernelspec": {
   "display_name": "Python 3",
   "language": "python",
   "name": "python3"
  },
  "language_info": {
   "codemirror_mode": {
    "name": "ipython",
    "version": 3
   },
   "file_extension": ".py",
   "mimetype": "text/x-python",
   "name": "python",
   "nbconvert_exporter": "python",
   "pygments_lexer": "ipython3",
   "version": "3.11.4"
  },
  "orig_nbformat": 4
 },
 "nbformat": 4,
 "nbformat_minor": 2
}
