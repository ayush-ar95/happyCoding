{
 "cells": [
  {
   "attachments": {},
   "cell_type": "markdown",
   "metadata": {},
   "source": [
    "Creating a Health Management system"
   ]
  },
  {
   "cell_type": "code",
   "execution_count": null,
   "metadata": {},
   "outputs": [],
   "source": [
    "\"\"\"\n",
    "number of client is 3- ayush, harry, rohan\n",
    "\n",
    "\n",
    "use this function to get date and time.\n",
    "def getdate():\n",
    "    import datetime\n",
    "    return datetime.datetime.now()\n",
    "\n",
    "create 2 files for each, 1. diet file 2. exercise file \n",
    "\n",
    "write a function that when executed takes as input client name.\n",
    "\n",
    "also write a function to retrive data from file.\n",
    "\n",
    "sequence:\n",
    "\n",
    "what u want to do-- lock or retrive\n",
    "of whome u want to do-- user name\n",
    "what u want to lock/ retrive-- diet or exercie\n",
    " display a message that the operation is successful.\n",
    "\"\"\""
   ]
  }
 ],
 "metadata": {
  "language_info": {
   "name": "python"
  },
  "orig_nbformat": 4
 },
 "nbformat": 4,
 "nbformat_minor": 2
}
