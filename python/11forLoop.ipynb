{
 "cells": [
  {
   "attachments": {},
   "cell_type": "markdown",
   "metadata": {},
   "source": [
    "For Loop in Python"
   ]
  },
  {
   "attachments": {},
   "cell_type": "markdown",
   "metadata": {},
   "source": [
    "list"
   ]
  },
  {
   "cell_type": "code",
   "execution_count": null,
   "metadata": {},
   "outputs": [],
   "source": [
    "list1 = [\"ayush\", \"harry\", \"larry\", \"carry\", \"marie\"]\n",
    "\n",
    "for item in list1:\n",
    "    print(item)"
   ]
  },
  {
   "attachments": {},
   "cell_type": "markdown",
   "metadata": {},
   "source": [
    "tuple"
   ]
  },
  {
   "cell_type": "code",
   "execution_count": null,
   "metadata": {},
   "outputs": [],
   "source": [
    "list1 = (\"ayush\", \"harry\", \"larry\", \"carry\", \"marie\")\n",
    "\n",
    "for item in list1:  # here item is a element\n",
    "    print(item)"
   ]
  },
  {
   "attachments": {},
   "cell_type": "markdown",
   "metadata": {},
   "source": [
    "list inside list"
   ]
  },
  {
   "cell_type": "code",
   "execution_count": null,
   "metadata": {},
   "outputs": [],
   "source": [
    "list1 = [[\"harry\", 1],\n",
    "         [\"larry\", 2],\n",
    "         [\"carry\", 6],\n",
    "         [\"marie\", 250]]\n",
    "\n",
    "for item in list1:  # here the item will be list\n",
    "    print(item)\n",
    "\n",
    "for item, lollypop in list1:        # nested loop\n",
    "    print(item, \" and lolly is: \", lollypop)"
   ]
  },
  {
   "attachments": {},
   "cell_type": "markdown",
   "metadata": {},
   "source": [
    "typecasting list in dictionary and then printing using for loop"
   ]
  },
  {
   "cell_type": "code",
   "execution_count": null,
   "metadata": {},
   "outputs": [],
   "source": [
    "list1 = [[\"harry\", 1],\n",
    "         [\"larry\", 2],\n",
    "         [\"carry\", 6],\n",
    "         [\"marie\", 250]]\n",
    "\n",
    "dict1 = dict(list1)\n",
    "print(dict1)\n",
    "\n",
    "# for item, lollypop in dict1:       # this will give error\n",
    "for item, lollypop in dict1.items():\n",
    "    print(item, \"and lolly is: \", lollypop)\n",
    "\n",
    "# if you want to print only keys.\n",
    "for item in dict1:\n",
    "    print(item)\n",
    "\n",
    "for item, lollypop in dict1.items():\n",
    "    print(lollypop)"
   ]
  },
  {
   "attachments": {},
   "cell_type": "markdown",
   "metadata": {},
   "source": [
    "quiz"
   ]
  },
  {
   "cell_type": "code",
   "execution_count": null,
   "metadata": {},
   "outputs": [],
   "source": [
    "# create a list and print only those integer which is greater than 6.\n",
    "list1 = ['ayush', 34, 69, 3, 4, 'harry']\n",
    "for item in list1:\n",
    "    if (type(item) == int and item > 6):\n",
    "        print(item)\n",
    "\n",
    "for item in list1:\n",
    "    if (str(item).isnumeric() and item > 6):    # using isnumeric function.\n",
    "        print(item)"
   ]
  },
  {
   "cell_type": "code",
   "execution_count": null,
   "metadata": {},
   "outputs": [],
   "source": []
  }
 ],
 "metadata": {
  "kernelspec": {
   "display_name": "Python 3",
   "language": "python",
   "name": "python3"
  },
  "language_info": {
   "codemirror_mode": {
    "name": "ipython",
    "version": 3
   },
   "file_extension": ".py",
   "mimetype": "text/x-python",
   "name": "python",
   "nbconvert_exporter": "python",
   "pygments_lexer": "ipython3",
   "version": "3.11.4"
  },
  "orig_nbformat": 4
 },
 "nbformat": 4,
 "nbformat_minor": 2
}
