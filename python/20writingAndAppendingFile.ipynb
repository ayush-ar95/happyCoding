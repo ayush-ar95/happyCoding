{
 "cells": [
  {
   "cell_type": "code",
   "execution_count": null,
   "metadata": {},
   "outputs": [],
   "source": [
    "# In this program we will learn how to write to a file.\n",
    "\n",
    "f = open(\"20write.txt\", \"w\")   # it will create a file then it will open it.\n",
    "# this will clear the previous content of the file and write the new one if the file already exits.\n",
    "f.write(\"Ayush is a good boy\\n\")\n",
    "f.close()"
   ]
  },
  {
   "cell_type": "code",
   "execution_count": null,
   "metadata": {},
   "outputs": [],
   "source": [
    "# it we want to write at the end of the content of the file.\n",
    "\n",
    "f = open(\"20write.txt\", \"a\")\n",
    "f.write(\"Writing after apanding in the file.\\n\")\n",
    "f.close()"
   ]
  },
  {
   "cell_type": "code",
   "execution_count": null,
   "metadata": {},
   "outputs": [],
   "source": [
    "# if we want to return how many character we have written.\n",
    "\n",
    "f = open(\"20write.txt\", \"a\")\n",
    "a = f.write(\"number of character is:\\n\")\n",
    "print(a)\n",
    "f.close()"
   ]
  },
  {
   "cell_type": "code",
   "execution_count": null,
   "metadata": {},
   "outputs": [],
   "source": [
    "# if we want to open a file in both read and write mode.\n",
    "\n",
    "# 'r+' means we want to read as well as write in the file.\n",
    "f = open(\"20write.txt\", \"r+\")\n",
    "print(f.read())\n",
    "f.write(\"this is read and write mode2...\\n\")\n",
    "print(f.read())\n",
    "f.close()"
   ]
  },
  {
   "cell_type": "code",
   "execution_count": null,
   "metadata": {},
   "outputs": [],
   "source": []
  }
 ],
 "metadata": {
  "kernelspec": {
   "display_name": "Python 3",
   "language": "python",
   "name": "python3"
  },
  "language_info": {
   "codemirror_mode": {
    "name": "ipython",
    "version": 3
   },
   "file_extension": ".py",
   "mimetype": "text/x-python",
   "name": "python",
   "nbconvert_exporter": "python",
   "pygments_lexer": "ipython3",
   "version": "3.11.4"
  },
  "orig_nbformat": 4
 },
 "nbformat": 4,
 "nbformat_minor": 2
}
