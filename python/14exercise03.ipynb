{
 "cells": [
  {
   "attachments": {},
   "cell_type": "markdown",
   "metadata": {},
   "source": [
    "Create a game of \" Gussing Number\""
   ]
  },
  {
   "cell_type": "code",
   "execution_count": null,
   "metadata": {},
   "outputs": [],
   "source": [
    "\"\"\"\n",
    "Total number of guesses=9\n",
    "Print number of guesses left\n",
    "print Number of guesses he took to finish the game.\n",
    "\"\"\""
   ]
  },
  {
   "cell_type": "code",
   "execution_count": null,
   "metadata": {},
   "outputs": [],
   "source": [
    "num = 19\n",
    "i = 0\n",
    "print(\"Guess the number: \")\n",
    "while (i < 9):\n",
    "    i = i+1\n",
    "    if (i > 1):\n",
    "        print(\"Guess the number again\")\n",
    "    inp = int(input())\n",
    "    print(inp)\n",
    "    if (inp == num):\n",
    "        print(\"you have successuflly gussed the number in \", i, \"guesses.\")\n",
    "        break\n",
    "    elif (inp < num):\n",
    "        if (i < 9):\n",
    "            print(\"guess a number greater than \", inp)\n",
    "            print(9-i, \"guesses left\")\n",
    "            print(\"--------------------\")\n",
    "    else:\n",
    "        if (i < 9):\n",
    "            print(\"guess a number smaller than \", inp)\n",
    "            print(9-i, \"guesses left\")\n",
    "            print(\"--------------------\")\n",
    "    if (i >= 9):\n",
    "        print(\"Sorry you failed to guess.\")\n",
    "        print(\"------play again-------\")"
   ]
  }
 ],
 "metadata": {
  "kernelspec": {
   "display_name": "Python 3",
   "language": "python",
   "name": "python3"
  },
  "language_info": {
   "codemirror_mode": {
    "name": "ipython",
    "version": 3
   },
   "file_extension": ".py",
   "mimetype": "text/x-python",
   "name": "python",
   "nbconvert_exporter": "python",
   "pygments_lexer": "ipython3",
   "version": "3.11.4"
  },
  "orig_nbformat": 4
 },
 "nbformat": 4,
 "nbformat_minor": 2
}
