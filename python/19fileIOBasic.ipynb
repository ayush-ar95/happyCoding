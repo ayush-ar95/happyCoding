{
 "cells": [
  {
   "attachments": {},
   "cell_type": "markdown",
   "metadata": {},
   "source": [
    "In this program we will see basics of File input and output."
   ]
  },
  {
   "cell_type": "code",
   "execution_count": null,
   "metadata": {},
   "outputs": [],
   "source": [
    "\"\"\" \n",
    "Modes in which we can open our files:\n",
    "    1. \"r\" - open file for reading (default mode)\n",
    "    2. \"w\" - open file for writing\n",
    "    3. \"x\" - creates files if not exits\n",
    "    4. \"a\" - Add more content to a file\n",
    "    5. \"t\" - text mode ( means ur file is a text file, default mode)\n",
    "    6. \"b\" - binary mode\n",
    "    7. \"+\" - read and write ( we use this to update our file )\n",
    "\"\"\""
   ]
  },
  {
   "cell_type": "code",
   "execution_count": null,
   "metadata": {},
   "outputs": [],
   "source": [
    "# here the default mode is read. It can either read 'text' or 'binary', default is 'text'.\n",
    "f = open(\"19test.txt\", \"rt\")\n",
    "\"\"\" \n",
    "open() function is used to open a file, open() returns a file pointer which is stored in a variable.\n",
    "# open() takes two argument :\n",
    "    1. file Name\n",
    "    2. mode in which we want to open the file.\n",
    "\"\"\"\n",
    "content = f.read()  # read() will read the content of the file which can be stored in a variable\n",
    "print(content)  # printing the content\n",
    "\n",
    "f.close()   # closing the file after all the operation."
   ]
  },
  {
   "cell_type": "code",
   "execution_count": null,
   "metadata": {},
   "outputs": [],
   "source": [
    "f = open(\"19test.txt\")\n",
    "content = f.read(3)  # this will read only 3 character.\n",
    "print(content)\n",
    "content = f.read(5)  # this will read 5 character including space.\n",
    "print(content)\n",
    "# if the file doesn't contain 555555 character then it will till the end of file and skip the rest.\n",
    "content = f.read(555555)\n",
    "print(content)\n",
    "f.close()"
   ]
  },
  {
   "cell_type": "code",
   "execution_count": null,
   "metadata": {},
   "outputs": [],
   "source": [
    "# it we want to read the content chracter by character in new line.\n",
    "\n",
    "f = open(\"19test.txt\")\n",
    "content = f.read()\n",
    "for line in content:\n",
    "    print(line)  # this will print character by character.\n",
    "\n",
    "f.close()"
   ]
  },
  {
   "cell_type": "code",
   "execution_count": null,
   "metadata": {},
   "outputs": [],
   "source": [
    "# if we want to print the content line by line.\n",
    "\n",
    "f = open(\"19test.txt\")\n",
    "for line in f:\n",
    "    # here end will remove the new line character which was getting printed.\n",
    "    print(line, end=\" \")\n",
    "f.close()"
   ]
  },
  {
   "cell_type": "code",
   "execution_count": null,
   "metadata": {},
   "outputs": [],
   "source": [
    "# readline() function.\n",
    "\n",
    "f = open(\"19test.txt\")\n",
    "print(f.readline())\n",
    "print(f.readline())  # this will print the next line.\n",
    "print(f.readline())  # this will print the next line.\n",
    "\n",
    "# it prints a new line because there is a new line character at the end of each line in text file.\n",
    "f.close()"
   ]
  },
  {
   "cell_type": "code",
   "execution_count": null,
   "metadata": {},
   "outputs": [],
   "source": [
    "# if we want to store all the lines in list we use readlines() function.\n",
    "\n",
    "f = open(\"19test.txt\")\n",
    "# this will print a list in which the elements of the list is the lines of the text file.\n",
    "print(f.readlines())\n",
    "f.close()"
   ]
  }
 ],
 "metadata": {
  "kernelspec": {
   "display_name": "Python 3",
   "language": "python",
   "name": "python3"
  },
  "language_info": {
   "codemirror_mode": {
    "name": "ipython",
    "version": 3
   },
   "file_extension": ".py",
   "mimetype": "text/x-python",
   "name": "python",
   "nbconvert_exporter": "python",
   "pygments_lexer": "ipython3",
   "version": "3.11.4"
  },
  "orig_nbformat": 4
 },
 "nbformat": 4,
 "nbformat_minor": 2
}
