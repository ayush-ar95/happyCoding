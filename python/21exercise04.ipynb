{
 "cells": [
  {
   "cell_type": "code",
   "execution_count": null,
   "metadata": {},
   "outputs": [],
   "source": [
    "\"\"\"\n",
    "Pattern Printing\n",
    "\n",
    "Input = integer n\n",
    "Boolean = true or false\n",
    "\n",
    "true and n=4\n",
    "*\n",
    "* *\n",
    "* * * \n",
    "* * * *\n",
    "\n",
    "false and n=4\n",
    "* * * *\n",
    "* * * \n",
    "* *\n",
    "*\n",
    "\n",
    "\"\"\""
   ]
  },
  {
   "cell_type": "code",
   "execution_count": null,
   "metadata": {},
   "outputs": [],
   "source": [
    "print(\"Enter number of rows and boolean value: \")\n",
    "n = int(input())\n",
    "b = int(input())\n",
    "if (b == 1):\n",
    "    for i in range(1, n+1):\n",
    "        for j in range(0, i):\n",
    "            print(\"*\", end=\" \")\n",
    "        print(\"\\n\")\n",
    "\n",
    "else:\n",
    "    for i in reversed(range(1, n+1)):\n",
    "        for j in range(0, i):\n",
    "            print(\"*\", end=\" \")\n",
    "        print(\"\\n\")"
   ]
  }
 ],
 "metadata": {
  "kernelspec": {
   "display_name": "Python 3",
   "language": "python",
   "name": "python3"
  },
  "language_info": {
   "codemirror_mode": {
    "name": "ipython",
    "version": 3
   },
   "file_extension": ".py",
   "mimetype": "text/x-python",
   "name": "python",
   "nbconvert_exporter": "python",
   "pygments_lexer": "ipython3",
   "version": "3.11.4"
  },
  "orig_nbformat": 4
 },
 "nbformat": 4,
 "nbformat_minor": 2
}
