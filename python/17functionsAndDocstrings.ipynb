{
 "cells": [
  {
   "attachments": {},
   "cell_type": "markdown",
   "metadata": {},
   "source": [
    "In this program we will make function and know about docstrings."
   ]
  },
  {
   "cell_type": "code",
   "execution_count": null,
   "metadata": {},
   "outputs": [],
   "source": [
    "a = 5\n",
    "b = 9\n",
    "c = sum((a, b))  # builtin Sum function.\n",
    "print(c)"
   ]
  },
  {
   "attachments": {},
   "cell_type": "markdown",
   "metadata": {},
   "source": [
    "User Defined Funtion"
   ]
  },
  {
   "cell_type": "code",
   "execution_count": null,
   "metadata": {},
   "outputs": [],
   "source": [
    "# we use 'def' keyword to define a user defined function\n",
    "\n",
    "def function1():        # defining a user defined funtion.\n",
    "    print(\"Hello you are in function 1\")\n",
    "\n",
    "\n",
    "# calling a user defined function, this will print none in output coz return value of fuction is none.\n",
    "print(function1())\n",
    "# another way of calling a function, this will not print none in output.\n",
    "function1()"
   ]
  },
  {
   "cell_type": "code",
   "execution_count": null,
   "metadata": {},
   "outputs": [],
   "source": [
    "# function taking parameter as input.\n",
    "\n",
    "def function2(a, b):\n",
    "    print(\"hello you are in function 2: \", a+b)\n",
    "\n",
    "\n",
    "function2(5, 10)"
   ]
  },
  {
   "cell_type": "code",
   "execution_count": null,
   "metadata": {},
   "outputs": [],
   "source": [
    "# taking return value from a function.\n",
    "\n",
    "def function3(a, b):\n",
    "    average = (a+b)/2\n",
    "    print(average)\n",
    "    return average  # this will return the calculated value.\n",
    "\n",
    "\n",
    "v = function3(10, 5)\n",
    "print(v)"
   ]
  },
  {
   "attachments": {},
   "cell_type": "markdown",
   "metadata": {},
   "source": [
    "DocString"
   ]
  },
  {
   "cell_type": "code",
   "execution_count": null,
   "metadata": {},
   "outputs": [],
   "source": [
    "\"\"\" \n",
    "Python documentation strings (or docstrings) provide a convenient way of associating documentation with Python modules, functions, classes, and methods.\n",
    "\n",
    "It's specified in source code that is used, like a comment, to document a specific segment of code. \n",
    "Unlike conventional source code comments, the docstring should describe what the function does, not how.\n",
    "\n",
    "What should a docstring look like?\n",
    "\n",
    "    1. The doc string line should begin with a capital letter and end with a period.\n",
    "    2. The first line should be a short description.\n",
    "    3. If there are more lines in the documentation string, the second line should be blank, visually separating the summary from the rest of the description.\n",
    "    4. The following lines should be one or more paragraphs describing the object's calling conventions, its side effects, etc.\n",
    "\n",
    "Declaring Docstrings: The docstrings are declared using '''triple single quotes''' or “””triple double quotes””” just below the class, method or function declaration. \n",
    "All functions should have a docstring.\n",
    "\n",
    "Accessing Docstrings: The docstrings can be accessed using the __doc__ method of the object or using the help function.\n",
    "\n",
    "\"\"\""
   ]
  },
  {
   "cell_type": "code",
   "execution_count": null,
   "metadata": {},
   "outputs": [],
   "source": [
    "def function4(a, b):\n",
    "    \"\"\"This is a function which will calculate average of two numbers.\"\"\"   # this is docstring.\n",
    "    average = (a+b)/2\n",
    "    return average\n",
    "\n",
    "\n",
    "v = function4(5, 7)\n",
    "print(v)\n",
    "\n",
    "# this will print the function description or docstring.\n",
    "print(function4.__doc__)"
   ]
  },
  {
   "cell_type": "code",
   "execution_count": null,
   "metadata": {},
   "outputs": [],
   "source": [
    "print(print.__doc__)    # printing the docstring of an inbuilt function."
   ]
  },
  {
   "cell_type": "code",
   "execution_count": null,
   "metadata": {},
   "outputs": [],
   "source": []
  }
 ],
 "metadata": {
  "kernelspec": {
   "display_name": "Python 3",
   "language": "python",
   "name": "python3"
  },
  "language_info": {
   "codemirror_mode": {
    "name": "ipython",
    "version": 3
   },
   "file_extension": ".py",
   "mimetype": "text/x-python",
   "name": "python",
   "nbconvert_exporter": "python",
   "pygments_lexer": "ipython3",
   "version": "3.11.4"
  },
  "orig_nbformat": 4
 },
 "nbformat": 4,
 "nbformat_minor": 2
}
