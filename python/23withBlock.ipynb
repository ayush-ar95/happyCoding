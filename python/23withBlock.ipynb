{
 "cells": [
  {
   "cell_type": "code",
   "execution_count": null,
   "metadata": {},
   "outputs": [],
   "source": [
    "# in this program we will learn how to use with block to open a file."
   ]
  },
  {
   "cell_type": "code",
   "execution_count": null,
   "metadata": {},
   "outputs": [],
   "source": [
    "\"\"\"\n",
    "f= open(\"fileName\",\"mode\")\n",
    ".\n",
    ".\n",
    ".\n",
    "f.close()\n",
    "\n",
    "\n",
    "is replaced by :\n",
    "\n",
    "with open(\"fileName\") as f:\n",
    "    .\n",
    "    .\n",
    "    .\n",
    "\n",
    "with block automatically open and closes a file.\n",
    "\n",
    "\"\"\""
   ]
  },
  {
   "cell_type": "code",
   "execution_count": null,
   "metadata": {},
   "outputs": [],
   "source": [
    "with open(\"20write.txt\") as f:\n",
    "    a = f.read(4)\n",
    "    print(a)\n",
    "\n",
    "# b=f.read(5)   # this will give error as we are reading a file after getting closed.\n",
    "# print(b)"
   ]
  }
 ],
 "metadata": {
  "kernelspec": {
   "display_name": "Python 3",
   "language": "python",
   "name": "python3"
  },
  "language_info": {
   "codemirror_mode": {
    "name": "ipython",
    "version": 3
   },
   "file_extension": ".py",
   "mimetype": "text/x-python",
   "name": "python",
   "nbconvert_exporter": "python",
   "pygments_lexer": "ipython3",
   "version": "3.11.4"
  },
  "orig_nbformat": 4
 },
 "nbformat": 4,
 "nbformat_minor": 2
}
