{
 "cells": [
  {
   "attachments": {},
   "cell_type": "markdown",
   "metadata": {},
   "source": [
    "In this program we will create LIST Data Type and use it."
   ]
  },
  {
   "cell_type": "code",
   "execution_count": null,
   "metadata": {},
   "outputs": [],
   "source": [
    "\"\"\"\n",
    "Python Lists are just like dynamically sized arrays. A list is a collection of things, enclosed in [ ] and separated by commas.\n",
    "\n",
    "The list is a sequence data type which is used to store the collection of data. Tuples and String are other types of sequence data types.\n",
    "Lists are the simplest containers that are an integral part of the Python language. Lists need not be homogeneous always which makes it the \n",
    "most powerful tool in Python. A single list may contain DataTypes like Integers, Strings, as well as Objects. Lists are mutable, and hence, they \n",
    "can be altered even after their creation.\n",
    "\"\"\""
   ]
  },
  {
   "attachments": {},
   "cell_type": "markdown",
   "metadata": {},
   "source": [
    "Creating and printing a List."
   ]
  },
  {
   "cell_type": "code",
   "execution_count": null,
   "metadata": {},
   "outputs": [],
   "source": [
    "# list contains elements of different data types.\n",
    "grocery = [\"harpic\", \"vim bar\", \"deodrant\", \"bhindi\", \"chocolates\", 100, 56.75]\n",
    "print(grocery)  # this will print entire list."
   ]
  },
  {
   "attachments": {},
   "cell_type": "markdown",
   "metadata": {},
   "source": [
    "printing iteams of the list seperatly"
   ]
  },
  {
   "cell_type": "code",
   "execution_count": null,
   "metadata": {},
   "outputs": [],
   "source": [
    "# printing list iteams using indexes, the index starts from 0.\n",
    "print(grocery[0])\n",
    "print(grocery[3])\n",
    "print(grocery[6])\n",
    "# print(grocery[7])   # this will give error coz the list ended at index 6 and we are printing out of range."
   ]
  },
  {
   "attachments": {},
   "cell_type": "markdown",
   "metadata": {},
   "source": [
    "Creating a list of numbers"
   ]
  },
  {
   "cell_type": "code",
   "execution_count": null,
   "metadata": {},
   "outputs": [],
   "source": [
    "number = [2, 7, 9, 11, 13]\n",
    "print(number)\n",
    "print(number[2])"
   ]
  },
  {
   "attachments": {},
   "cell_type": "markdown",
   "metadata": {},
   "source": [
    "list have inbulit methods, here are some of them"
   ]
  },
  {
   "cell_type": "code",
   "execution_count": null,
   "metadata": {},
   "outputs": [],
   "source": [
    "number.sort()   # this method sort the list\n",
    "print(number)\n",
    "number.reverse()    # this will reverse the list\n",
    "print(number)\n",
    "print(len(number))  # this will print the length of list.\n",
    "print(max(number))  # this will print maximum element in the list.\n",
    "print(min(number))  # this will print minimum element in the list.\n",
    "\n",
    "# grocery.sort() # this will give error boz not supported between instances of 'int' and 'str'.\n",
    "# print(grocery)"
   ]
  },
  {
   "attachments": {},
   "cell_type": "markdown",
   "metadata": {},
   "source": [
    "Slicing in list data structur."
   ]
  },
  {
   "cell_type": "code",
   "execution_count": null,
   "metadata": {},
   "outputs": [],
   "source": [
    "print(number)\n",
    "print(number[2])\n",
    "print(number[0:5])\n",
    "print(number[:5])   # this will by default take starting index ie: 0\n",
    "print(number[:])    # this will take starting and ending index automatically.\n",
    "# slicing returns a new modified list, the original list remains as it is.\n",
    "# on the other hand the functions like sort will modifiy the original list."
   ]
  },
  {
   "attachments": {},
   "cell_type": "markdown",
   "metadata": {},
   "source": [
    "Extended slicing"
   ]
  },
  {
   "cell_type": "code",
   "execution_count": null,
   "metadata": {},
   "outputs": [],
   "source": [
    "print(number[::])\n",
    "# here the parameter 1 is starting index, parameter 2 is ending index and defualt value of parameter 3 is '1'.\n",
    "print(number[::1])  # this will return the same as above\n",
    "# this will skip 1 element and will print the 2nd element after skipping the 1st element.\n",
    "print(number[::2])\n",
    "print(number[::3])  # this will skip 2 element and will print the 3rd element\n",
    "print(number[::-1])  # this will reverse the list.\n",
    "print(number[::-2])  # this will reverse the list and will skip 1 element\n",
    "# this will return empty list so it not recomended the take negative slicing smaller the -1\n",
    "print(number[1:5:-2])"
   ]
  },
  {
   "attachments": {},
   "cell_type": "markdown",
   "metadata": {},
   "source": [
    "Append()-- this method is used to add element in a list."
   ]
  },
  {
   "cell_type": "code",
   "execution_count": null,
   "metadata": {},
   "outputs": [],
   "source": [
    "print(number)\n",
    "number.append(21)   # this will add number (here 21) at the last of the list.\n",
    "print(number)"
   ]
  },
  {
   "attachments": {},
   "cell_type": "markdown",
   "metadata": {},
   "source": [
    "if we want to insert a element in between then we use insert()\n",
    "Insert() takes two argument 1. is the index at which we want to insert\n",
    "                            2. the value that we want to insert"
   ]
  },
  {
   "cell_type": "code",
   "execution_count": null,
   "metadata": {},
   "outputs": [],
   "source": [
    "print(number)\n",
    "number.insert(4, 100)    # this will insert 100 at 4th position.\n",
    "number.insert(1, 100)\n",
    "print(number)"
   ]
  },
  {
   "attachments": {},
   "cell_type": "markdown",
   "metadata": {},
   "source": [
    "remove()"
   ]
  },
  {
   "cell_type": "code",
   "execution_count": null,
   "metadata": {},
   "outputs": [],
   "source": [
    "print(number)\n",
    "number.remove(100)  # this will remove 1st element whose value is 100\n",
    "print(number)\n",
    "number.remove(100)  # this will remove 2nd element whose value is 100\n",
    "print(number)"
   ]
  },
  {
   "attachments": {},
   "cell_type": "markdown",
   "metadata": {},
   "source": [
    "pop()"
   ]
  },
  {
   "cell_type": "code",
   "execution_count": null,
   "metadata": {},
   "outputs": [],
   "source": [
    "print(number)\n",
    "number.pop()    # this will pop out last element.\n",
    "print(number)"
   ]
  },
  {
   "attachments": {},
   "cell_type": "markdown",
   "metadata": {},
   "source": [
    "tuples-- it is used when we don't want to change the value of the list."
   ]
  },
  {
   "cell_type": "code",
   "execution_count": null,
   "metadata": {},
   "outputs": [],
   "source": [
    "\"\"\"\n",
    "mutable -- can change\n",
    "immutable -- cannot change\n",
    "\n",
    "list is mutable but tuple is immutable.\n",
    "\"\"\"\n",
    "\n",
    "print(number)\n",
    "number[1] = 98    # this will change the value at index 1 as 98.\n",
    "print(number)"
   ]
  },
  {
   "cell_type": "code",
   "execution_count": null,
   "metadata": {},
   "outputs": [],
   "source": [
    "# creating a tuple\n",
    "tp = (1, 2, 3)  # tuple is declared and created\n",
    "print(tp)   # tuple is printed\n",
    "# tp[1]=98    # this will give error because tuple values cannot be changed.\n",
    "print(tp)\n",
    "\n",
    "\n",
    "tp = (1)  # this will not created tuple coz intepretor will think bracets are used for safty in calculation\n",
    "print(tp)\n",
    "\n",
    "# so to make a tuple which have only one element we write a ',' after the element in the parenthesis\n",
    "tp = (1,)  # this will create a tuple\n",
    "print(tp)"
   ]
  },
  {
   "attachments": {},
   "cell_type": "markdown",
   "metadata": {},
   "source": [
    "swapping two number"
   ]
  },
  {
   "cell_type": "code",
   "execution_count": null,
   "metadata": {},
   "outputs": [],
   "source": [
    "a = 1\n",
    "b = 8\n",
    "# traditional method\n",
    "print(a, b)\n",
    "temp = a\n",
    "a = b\n",
    "b = temp\n",
    "print(a, b)\n",
    "\n",
    "# using python technique.\n",
    "print(a, b)\n",
    "a, b = b, a  # this will swap the element.\n",
    "print(a, b)"
   ]
  },
  {
   "attachments": {},
   "cell_type": "markdown",
   "metadata": {},
   "source": [
    "explor the web and search for python list funtions... and use them whenever needed."
   ]
  },
  {
   "cell_type": "code",
   "execution_count": null,
   "metadata": {},
   "outputs": [],
   "source": []
  }
 ],
 "metadata": {
  "kernelspec": {
   "display_name": "Python 3",
   "language": "python",
   "name": "python3"
  },
  "language_info": {
   "codemirror_mode": {
    "name": "ipython",
    "version": 3
   },
   "file_extension": ".py",
   "mimetype": "text/x-python",
   "name": "python",
   "nbconvert_exporter": "python",
   "pygments_lexer": "ipython3",
   "version": "3.11.4"
  },
  "orig_nbformat": 4
 },
 "nbformat": 4,
 "nbformat_minor": 2
}
