{
 "cells": [
  {
   "attachments": {},
   "cell_type": "markdown",
   "metadata": {},
   "source": [
    "Else if condition in python"
   ]
  },
  {
   "cell_type": "code",
   "execution_count": null,
   "metadata": {},
   "outputs": [],
   "source": [
    "var1 = 6\n",
    "var2 = 56\n",
    "\n",
    "var3 = int(input())\n",
    "\n",
    "if var3 > var2:\n",
    "    print(\"greater\")\n",
    "elif var3 == var2:      # \"else if == elif\" in python\n",
    "    print(\"Equal\")\n",
    "else:\n",
    "    print(\"lesser\")"
   ]
  },
  {
   "attachments": {},
   "cell_type": "markdown",
   "metadata": {},
   "source": [
    "IN and NOT IN keyword"
   ]
  },
  {
   "cell_type": "code",
   "execution_count": 6,
   "metadata": {},
   "outputs": [
    {
     "name": "stdout",
     "output_type": "stream",
     "text": [
      "False\n",
      "no its not there\n"
     ]
    }
   ],
   "source": [
    "# \"in\" and \"not in\" keywords are used to check whether something is in it or not.\n",
    "\n",
    "list1 = [5, 7, 3, 11]\n",
    "# it will return a boolean value according to the condition.\n",
    "print(15 in list1)\n",
    "if 15 in list1:\n",
    "    print(\"yes it is there\")\n",
    "else:\n",
    "    print(\"no its not there\")"
   ]
  },
  {
   "cell_type": "code",
   "execution_count": 7,
   "metadata": {},
   "outputs": [
    {
     "name": "stdout",
     "output_type": "stream",
     "text": [
      "True\n",
      "no it is not there\n"
     ]
    }
   ],
   "source": [
    "list1 = [5, 7, 3, 11]\n",
    "# it will return a boolean value according to the condition.\n",
    "print(15 not in list1)\n",
    "if 15 not in list1:\n",
    "    print(\"no it is not there\")\n",
    "else:\n",
    "    print(\"yes its there\")"
   ]
  },
  {
   "attachments": {},
   "cell_type": "markdown",
   "metadata": {},
   "source": [
    "Quiz:"
   ]
  },
  {
   "cell_type": "code",
   "execution_count": 17,
   "metadata": {},
   "outputs": [
    {
     "name": "stdout",
     "output_type": "stream",
     "text": [
      "Enter your age\n",
      "Enter a valid age\n"
     ]
    }
   ],
   "source": [
    "print(\"Enter your age\")\n",
    "age = int(input())\n",
    "\n",
    "if (age > 5 and age < 18):\n",
    "    print(\"Not eligible for driving, come again\")\n",
    "elif (age == 18):\n",
    "    print(\"Can't confirm... plz visit physically\")\n",
    "elif (age > 18 and age < 100):\n",
    "    print(\"You are eligible for diriving\")\n",
    "else:\n",
    "    print(\"Enter a valid age\")"
   ]
  },
  {
   "cell_type": "code",
   "execution_count": null,
   "metadata": {},
   "outputs": [],
   "source": []
  }
 ],
 "metadata": {
  "kernelspec": {
   "display_name": "Python 3",
   "language": "python",
   "name": "python3"
  },
  "language_info": {
   "codemirror_mode": {
    "name": "ipython",
    "version": 3
   },
   "file_extension": ".py",
   "mimetype": "text/x-python",
   "name": "python",
   "nbconvert_exporter": "python",
   "pygments_lexer": "ipython3",
   "version": "3.11.4"
  },
  "orig_nbformat": 4
 },
 "nbformat": 4,
 "nbformat_minor": 2
}
