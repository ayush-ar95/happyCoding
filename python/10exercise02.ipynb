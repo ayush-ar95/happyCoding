{
 "cells": [
  {
   "attachments": {},
   "cell_type": "markdown",
   "metadata": {},
   "source": [
    "Program a Faulty Calculator"
   ]
  },
  {
   "cell_type": "code",
   "execution_count": null,
   "metadata": {},
   "outputs": [],
   "source": [
    "# design a calculator which will correctly solve all the problems except the following ones:-\n",
    "# 45*3=555\n",
    "# 56+9=77\n",
    "# 56/6=4\n",
    "# it takes input from the user 1. operator 2. number on which he wants to perform operation\n",
    "# prints the answer correctly except for above expressions."
   ]
  },
  {
   "cell_type": "code",
   "execution_count": null,
   "metadata": {},
   "outputs": [],
   "source": [
    "print(\"Enter the operator\")\n",
    "op = input()\n",
    "print(\"Enter 1st operand\")\n",
    "a = int(input())\n",
    "print(\"Enter 2nd operand\")\n",
    "b = int(input())\n",
    "\n",
    "\n",
    "if (op == '+'):\n",
    "    if (a == 56):\n",
    "        if (b == 9):\n",
    "            print(\"The solution is: 77\")\n",
    "        else:\n",
    "            print(\"The solution is:\", a+b)\n",
    "    else:\n",
    "        print(\"The solution is: \", a+b)\n",
    "\n",
    "elif (op == '-'):\n",
    "    print(\"The solution is: \", a-b)\n",
    "\n",
    "elif (op == '*'):\n",
    "    if (a == 45):\n",
    "        if (b == 3):\n",
    "            print(\"The solution is: 555\")\n",
    "        else:\n",
    "            print(\"The solution is:\", a*b)\n",
    "    else:\n",
    "        print(\"The solution is: \", a*b)\n",
    "\n",
    "elif (op == '/'):\n",
    "    if (a == 56):\n",
    "        if (b == 6):\n",
    "            print(\"The solution is: 4\")\n",
    "        else:\n",
    "            print(\"The solution is:\", a/b)\n",
    "    else:\n",
    "        print(\"The solution is: \", a/b)\n",
    "\n",
    "else:\n",
    "    print(\"...Enter a valid operator...\")"
   ]
  },
  {
   "cell_type": "code",
   "execution_count": null,
   "metadata": {},
   "outputs": [],
   "source": []
  }
 ],
 "metadata": {
  "kernelspec": {
   "display_name": "Python 3",
   "language": "python",
   "name": "python3"
  },
  "language_info": {
   "codemirror_mode": {
    "name": "ipython",
    "version": 3
   },
   "file_extension": ".py",
   "mimetype": "text/x-python",
   "name": "python",
   "nbconvert_exporter": "python",
   "pygments_lexer": "ipython3",
   "version": "3.11.4"
  },
  "orig_nbformat": 4
 },
 "nbformat": 4,
 "nbformat_minor": 2
}
