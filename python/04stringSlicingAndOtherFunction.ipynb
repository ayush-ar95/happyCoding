{
 "cells": [
  {
   "attachments": {},
   "cell_type": "markdown",
   "metadata": {},
   "source": [
    "In this program we will learn string slicing and other string functions."
   ]
  },
  {
   "cell_type": "code",
   "execution_count": null,
   "metadata": {},
   "outputs": [],
   "source": [
    "mystr = \"ayush is a good boy\"     # creating a string.\n",
    "print(mystr)    # printing the string."
   ]
  },
  {
   "attachments": {},
   "cell_type": "markdown",
   "metadata": {},
   "source": [
    "If we want to print a part of this string we need slicing."
   ]
  },
  {
   "cell_type": "code",
   "execution_count": null,
   "metadata": {},
   "outputs": [],
   "source": [
    "# this is slicing, it will print element at index 4. (index starts form 0)\n",
    "print(mystr[4])\n",
    "print(mystr[5])     # this is printing element at index 5 which is blank space.\n",
    "\n",
    "# this will print elements from index 0 to index 3 coz the rule is: it will inculde index 0 but it will exclude index 4.\n",
    "print(mystr[0:4])\n",
    "# this will print ayush as it will print from index 0 to 4 and it will exclude index 5.\n",
    "print(mystr[0:5])"
   ]
  },
  {
   "attachments": {},
   "cell_type": "markdown",
   "metadata": {},
   "source": [
    "how to check the length of a string."
   ]
  },
  {
   "cell_type": "code",
   "execution_count": null,
   "metadata": {},
   "outputs": [],
   "source": [
    "# to check the length of a string, we pass the string to the len() function and print it.\n",
    "print(len(mystr))\n",
    "print(mystr[0:19])  # this will print everything in the string.\n",
    "\n",
    "# print(mystr[70]) # this will give error \"string index out of range.\"\n",
    "# but this will not give error coz it will print eveyting from 0 and will ignore after the string ends.\n",
    "print(mystr[0:70])"
   ]
  },
  {
   "attachments": {},
   "cell_type": "markdown",
   "metadata": {},
   "source": [
    "if we want to print a string by skipping some characters"
   ]
  },
  {
   "cell_type": "code",
   "execution_count": null,
   "metadata": {},
   "outputs": [],
   "source": [
    "# this will print string form index 0 to index 4 and will skip every 2nd character form index 0 to index 4.\n",
    "print(mystr[0:5:2])"
   ]
  },
  {
   "cell_type": "code",
   "execution_count": null,
   "metadata": {},
   "outputs": [],
   "source": [
    "# this will print everything from index 0 till length of string.\n",
    "print(mystr[0:])\n",
    "# this will print everything from index 5 till length of string.\n",
    "print(mystr[5:])\n",
    "# this will print everything till index 4 coz it skip last index.\n",
    "print(mystr[:5])\n",
    "# in 1st column it take index 0 and in 2nd cloumn it take till the lenthe of string and in 3rd column it will take 1 and print everything, it can also be written as print(mystr[0:19:1]) ie:- starting index:length of string:default slicing step.\n",
    "print(mystr[::])\n",
    "print(mystr[0:19:1])    # this is same as above.\n",
    "print(mystr[::3])   # this will skip 2 character and print the 3rd one.\n",
    "# this will print 1st character and will try to skip 5998 character but will fail so it will stop.\n",
    "print(mystr[::5999])\n",
    "\n",
    "# print(mystr[::0])   # this will give error boz slice step starts form 1 it cannot be 0."
   ]
  },
  {
   "attachments": {},
   "cell_type": "markdown",
   "metadata": {},
   "source": [
    "negative index's in slicing."
   ]
  },
  {
   "cell_type": "code",
   "execution_count": null,
   "metadata": {},
   "outputs": [],
   "source": [
    "# in python we assign negative indexes from the end of the string and positive index from the starting of the string.\n",
    "# the last character of the string will have index -1 followed by -2 and so on from end of the string.\n",
    "# the first character of the string will have index 0 follwed by 1 and so on from the begining of the string.\n",
    "# we can also replace the -ve index by equivalent +ve index of the string as show below.\n",
    "\n",
    "# this will pirnt from index -4 to the length of the string.\n",
    "print(mystr[-4:])\n",
    "# this will print from index -5 to -3 as it will exclude -2 index.\n",
    "print(mystr[-5:-2])\n",
    "# this is equivalent to the above slicing, we have just replaced the -ve index with +ve index.\n",
    "print(mystr[14:17])\n",
    "\n",
    "print(mystr[::-1])  # this will reverse the string.\n",
    "# this will first reverse the string and will print will print every 2nd character form index -1 while skipping 1 character.\n",
    "print(mystr[::-2])"
   ]
  },
  {
   "attachments": {},
   "cell_type": "markdown",
   "metadata": {},
   "source": [
    "String functions in python:"
   ]
  },
  {
   "cell_type": "code",
   "execution_count": null,
   "metadata": {},
   "outputs": [],
   "source": [
    "# this is type function which is used to check the type (wether it is string or not)\n",
    "print(type(mystr))\n",
    "# this will check wether the string is alpha-numeric or not, it returns a boolean type.\n",
    "print(mystr.isalnum())\n",
    "# this will check wether the string is alpha or not, it also returns a boolean type.\n",
    "print(mystr.isalpha())\n",
    "# this will check wether the string ends with something(whatever we give as input) or not, it returns boolean type\n",
    "print(mystr.endswith(\"boy\"))\n",
    "# it will count how many times the argument has occured, it is case sensative.\n",
    "print(mystr.count(\"o\"))\n",
    "print(mystr.capitalize())   # it capatilizes the first character of the string.\n",
    "# it find the argument into the string, it will return the starting index of the string.\n",
    "print(mystr.find(\"is\"))\n",
    "print(mystr.lower())    # it will convert the string in lower case string.\n",
    "print(mystr.upper())    # it will convert the string in upper case string.\n",
    "# it will replace every instance of string 'is' with string 'are'.\n",
    "print(mystr.replace(\"is\", \"are\"))"
   ]
  }
 ],
 "metadata": {
  "kernelspec": {
   "display_name": "Python 3",
   "language": "python",
   "name": "python3"
  },
  "language_info": {
   "codemirror_mode": {
    "name": "ipython",
    "version": 3
   },
   "file_extension": ".py",
   "mimetype": "text/x-python",
   "name": "python",
   "nbconvert_exporter": "python",
   "pygments_lexer": "ipython3",
   "version": "3.11.4"
  },
  "orig_nbformat": 4
 },
 "nbformat": 4,
 "nbformat_minor": 2
}
