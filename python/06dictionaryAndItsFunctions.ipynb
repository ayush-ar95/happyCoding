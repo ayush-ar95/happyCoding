{
 "cells": [
  {
   "attachments": {},
   "cell_type": "markdown",
   "metadata": {},
   "source": [
    "Dictionary"
   ]
  },
  {
   "cell_type": "code",
   "execution_count": null,
   "metadata": {},
   "outputs": [],
   "source": [
    "# dictionary is a data structure in python which stores (key, value) pairs.\n",
    "\n",
    "# {} --> used for dictionary\n",
    "# [] --> used for list\n",
    "# () --> used for tuple"
   ]
  },
  {
   "attachments": {},
   "cell_type": "markdown",
   "metadata": {},
   "source": [
    "creating and printing dictionary"
   ]
  },
  {
   "cell_type": "code",
   "execution_count": null,
   "metadata": {},
   "outputs": [],
   "source": [
    "d1 = {}   # creating an empty dictionary.\n",
    "print(type(d1))  # checking the type of data structure created."
   ]
  },
  {
   "cell_type": "code",
   "execution_count": null,
   "metadata": {},
   "outputs": [],
   "source": [
    "# creating a dictionary with element--> \"key\": \"values\"\n",
    "d2 = {\"ayush\": \"burger\", \"rohan\": \"fish\", \"skillf\": \"roti\"}\n",
    "print(d2)\n",
    "print(d2[\"ayush\"])  # printing values using key. it is case sensative.\n",
    "print(d2[\"rohan\"])"
   ]
  },
  {
   "cell_type": "code",
   "execution_count": null,
   "metadata": {},
   "outputs": [],
   "source": [
    "# creating a dictionary inside a dictionary\n",
    "d3 = {\"ayush\": \"burger\", \"rohan\": \"fish\", \"skillf\": \"roti\",\n",
    "      \"shubham\": {\"b\": \"maggie\", \"l\": \"Roti\", \"d\": \"chicken\"}}\n",
    "print(d3)\n",
    "\n",
    "print(d3[\"rohan\"])\n",
    "# printing the value of shubham which is a dictionary itself.\n",
    "print(d3[\"shubham\"])\n",
    "# printing the value of inner dictionary using key as shubham.\n",
    "print(d3[\"shubham\"][\"b\"])\n",
    "\n",
    "# In (key, value) pair the value can be anything from dictionary, list and tuple but the key will be immutable."
   ]
  },
  {
   "attachments": {},
   "cell_type": "markdown",
   "metadata": {},
   "source": [
    "Adding element in a dictionary."
   ]
  },
  {
   "cell_type": "code",
   "execution_count": null,
   "metadata": {},
   "outputs": [],
   "source": [
    "# adding an element ankit to the already created dictionary.\n",
    "d3[\"ankit\"] = \"junk food\"\n",
    "print(d3)"
   ]
  },
  {
   "cell_type": "code",
   "execution_count": null,
   "metadata": {},
   "outputs": [],
   "source": [
    "# adding another element to the dictionary. here the key can be anything ie: number, string.\n",
    "d3[\"420\"] = \"kebabs\"\n",
    "print(d3)"
   ]
  },
  {
   "attachments": {},
   "cell_type": "markdown",
   "metadata": {},
   "source": [
    "deleting an element form a dictionary."
   ]
  },
  {
   "cell_type": "code",
   "execution_count": null,
   "metadata": {},
   "outputs": [],
   "source": [
    "# del function is used to delete element from a dictionary, del function takes key as parameter.\n",
    "del d3[\"420\"]\n",
    "print(d3)"
   ]
  },
  {
   "attachments": {},
   "cell_type": "markdown",
   "metadata": {},
   "source": [
    "Some Dictionary functions"
   ]
  },
  {
   "cell_type": "code",
   "execution_count": null,
   "metadata": {},
   "outputs": [],
   "source": [
    "print(d3.copy())"
   ]
  },
  {
   "cell_type": "code",
   "execution_count": null,
   "metadata": {},
   "outputs": [],
   "source": [
    "d4 = d3.copy()\n",
    "print(d4)"
   ]
  },
  {
   "cell_type": "code",
   "execution_count": null,
   "metadata": {},
   "outputs": [],
   "source": [
    "# if we will copy without using copy function then changes made in one dictionary will reflect in another dictionary\n",
    "d4 = d3\n",
    "print(d4)\n",
    "del d4[\"ankit\"]\n",
    "print(d4)\n",
    "print(d3)   # the changes made in d4 is reflected in d3."
   ]
  },
  {
   "cell_type": "code",
   "execution_count": null,
   "metadata": {},
   "outputs": [],
   "source": [
    "print(d3.get(\"ayush\"))  # it will print the value of key.\n",
    "d3.update({\"leena\": \"toffee\"})   # this will update the dictionary.\n",
    "print(d3)"
   ]
  },
  {
   "cell_type": "code",
   "execution_count": null,
   "metadata": {},
   "outputs": [],
   "source": [
    "print(d3.keys())    # this will print all the keys of the dictionary.\n",
    "# this will print all the items (key-value pairs) of the dictionary.\n",
    "print(d3.items())\n",
    "print(d3.values())   # this will print all the values of the dictionary."
   ]
  },
  {
   "attachments": {},
   "cell_type": "markdown",
   "metadata": {},
   "source": [
    "search google for more dictionary functions and use them."
   ]
  },
  {
   "cell_type": "code",
   "execution_count": null,
   "metadata": {},
   "outputs": [],
   "source": []
  }
 ],
 "metadata": {
  "kernelspec": {
   "display_name": "Python 3",
   "language": "python",
   "name": "python3"
  },
  "language_info": {
   "codemirror_mode": {
    "name": "ipython",
    "version": 3
   },
   "file_extension": ".py",
   "mimetype": "text/x-python",
   "name": "python",
   "nbconvert_exporter": "python",
   "pygments_lexer": "ipython3",
   "version": "3.11.4"
  },
  "orig_nbformat": 4
 },
 "nbformat": 4,
 "nbformat_minor": 2
}
